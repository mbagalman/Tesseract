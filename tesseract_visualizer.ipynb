{
 "cells": [
  {
   "cell_type": "markdown",
   "metadata": {},
   "source": [
    "# 🔬 4D Tesseract Visualizer\n",
    "Visualize a 4D hypercube projected into 3D and 2D, with interactive sliders for rotating in all six 4D planes. Because cubes are boring."
   ]
  },
  {
   "cell_type": "code",
   "execution_count": null,
   "metadata": {},
   "outputs": [],
   "source": [
    "%pip install numpy matplotlib ipywidgets"
   ]
  },
  {
   "cell_type": "code",
   "execution_count": null,
   "metadata": {},
   "outputs": [],
   "source": [
    "import numpy as np\n",
    "import matplotlib.pyplot as plt\n",
    "from mpl_toolkits.mplot3d.art3d import Line3DCollection\n",
    "from matplotlib.lines import Line2D\n",
    "from itertools import product\n",
    "from ipywidgets import interact, FloatSlider, fixed"
   ]
  },
  {
   "cell_type": "code",
   "execution_count": null,
   "metadata": {},
   "outputs": [],
   "source": [
    "EPSILON = 1e-6\n",
    "AXIS_COLORS = ['orange', 'green', 'blue', 'red']\n",
    "AXIS_LABELS = ['X', 'Y', 'Z', 'W']"
   ]
  },
  {
   "cell_type": "code",
   "execution_count": null,
   "metadata": {},
   "outputs": [],
   "source": [
    "def generate_hypercube_vertices():\n",
    "    return np.array(list(product([-0.5, 0.5], repeat=4)))\n",
    "\n",
    "def generate_hypercube_edges(vertices):\n",
    "    edges = []\n",
    "    for i in range(len(vertices)):\n",
    "        for j in range(i + 1, len(vertices)):\n",
    "            if np.isclose(np.sum(np.abs(vertices[i] - vertices[j])), 1.0):\n",
    "                edges.append((i, j))\n",
    "    return edges"
   ]
  },
  {
   "cell_type": "code",
   "execution_count": null,
   "metadata": {},
   "outputs": [],
   "source": [
    "def rotation_matrix_4d(axis1, axis2, angle_rad):\n",
    "    M = np.eye(4)\n",
    "    c, s = np.cos(angle_rad), np.sin(angle_rad)\n",
    "    M[axis1, axis1], M[axis2, axis2] = c, c\n",
    "    M[axis1, axis2], M[axis2, axis1] = -s, s\n",
    "    return M"
   ]
  },
  {
   "cell_type": "code",
   "execution_count": null,
   "metadata": {},
   "outputs": [],
   "source": [
    "def project_4d_to_3d(points4d, viewer_distance=3.0):\n",
    "    w = points4d[:, 3]\n",
    "    denom = np.where(np.abs(viewer_distance - w) < EPSILON, EPSILON, viewer_distance - w)\n",
    "    factor = viewer_distance / denom\n",
    "    return points4d[:, :3] * factor[:, np.newaxis]"
   ]
  },
  {
   "cell_type": "code",
   "execution_count": null,
   "metadata": {},
   "outputs": [],
   "source": [
    "def get_edge_color(vertices, edge):\n",
    "    diff = vertices[edge[0]] - vertices[edge[1]]\n",
    "    axis = np.flatnonzero(diff)[0]\n",
    "    return AXIS_COLORS[axis]"
   ]
  },
  {
   "cell_type": "code",
   "execution_count": null,
   "metadata": {},
   "outputs": [],
   "source": [
    "def plot_tesseract(rot_xy=0, rot_xz=0, rot_xw=0, rot_yz=0, rot_yw=0, rot_zw=0, viewer_distance=3.0, show_plot=True):\n",
    "    verts = generate_hypercube_vertices()\n",
    "    edges = generate_hypercube_edges(verts)\n",
    "\n",
    "    R = (\n",
    "        rotation_matrix_4d(2, 3, rot_zw) @\n",
    "        rotation_matrix_4d(1, 3, rot_yw) @\n",
    "        rotation_matrix_4d(0, 3, rot_xw) @\n",
    "        rotation_matrix_4d(1, 2, rot_yz) @\n",
    "        rotation_matrix_4d(0, 2, rot_xz) @\n",
    "        rotation_matrix_4d(0, 1, rot_xy)\n",
    "    )\n",
    "\n",
    "    rv = verts @ R.T\n",
    "    p3 = project_4d_to_3d(rv, viewer_distance)\n",
    "\n",
    "    ecols = [get_edge_color(verts, e) for e in edges]\n",
    "    wvals = rv[:, 3]\n",
    "    wmin, wmax = wvals.min(), wvals.max()\n",
    "    wnorm = (wvals - wmin) / (wmax - wmin) if not np.isclose(wmax, wmin) else np.full_like(wvals, 0.5)\n",
    "    sizes = 20 + 40 * wnorm\n",
    "\n",
    "    fig = plt.figure(figsize=(15, 8))\n",
    "    ax1 = fig.add_subplot(121, projection='3d')\n",
    "    ax1.set_box_aspect((1, 1, 1))\n",
    "    M = np.max(np.abs(p3)) * 1.15\n",
    "    ax1.set(xlim=(-M, M), ylim=(-M, M), zlim=(-M, M),\n",
    "           xlabel='X', ylabel='Y', zlabel='Z', title='3D Projection')\n",
    "    lines = [p3[list(e)] for e in edges]\n",
    "    ax1.add_collection3d(Line3DCollection(lines, colors=ecols, linewidths=1.5, alpha=0.9))\n",
    "    ax1.scatter(p3[:, 0], p3[:, 1], p3[:, 2], c=wvals, s=sizes, cmap='viridis', edgecolors='black')\n",
    "\n",
    "    ax2 = fig.add_subplot(122)\n",
    "    ax2.set_aspect('equal')\n",
    "    ax2.set(xlabel='X', ylabel='Y', title='2D Projection (X vs Y)')\n",
    "    for idx, (i, j) in enumerate(edges):\n",
    "        p1, p2 = p3[i], p3[j]\n",
    "        ax2.plot([p1[0], p2[0]], [p1[1], p2[1]], color=ecols[idx], alpha=0.8, linewidth=1.2)\n",
    "    ax2.scatter(p3[:, 0], p3[:, 1], c=wvals, s=sizes, cmap='viridis', edgecolors='black')\n",
    "\n",
    "    plt.tight_layout()\n",
    "    if show_plot:\n",
    "        plt.show()"
   ]
  },
  {
   "cell_type": "code",
   "execution_count": null,
   "metadata": {},
   "outputs": [],
   "source": [
    "interact(\n",
    "    plot_tesseract,\n",
    "    rot_xy=FloatSlider(min=-np.pi, max=np.pi, step=0.05, value=0, description='XY (3D)'),\n",
    "    rot_xz=FloatSlider(min=-np.pi, max=np.pi, step=0.05, value=0, description='XZ (3D)'),\n",
    "    rot_yz=FloatSlider(min=-np.pi, max=np.pi, step=0.05, value=0, description='YZ (3D)'),\n",
    "    rot_xw=FloatSlider(min=-np.pi, max=np.pi, step=0.05, value=0, description='XW (4D)'),\n",
    "    rot_yw=FloatSlider(min=-np.pi, max=np.pi, step=0.05, value=0, description='YW (4D)'),\n",
    "    rot_zw=FloatSlider(min=-np.pi, max=np.pi, step=0.05, value=0, description='ZW (4D)'),\n",
    "    viewer_distance=FloatSlider(min=2.0, max=10.0, step=0.1, value=3.0, description='Viewer Dist'),\n",
    "    show_plot=fixed(True))"
   ]
  }
 ],
 "metadata": {
  "kernelspec": {
   "display_name": "Python 3",
   "language": "python",
   "name": "python3"
  },
  "language_info": {
   "name": "python",
   "version": "3.10"
  }
 },
 "nbformat": 4,
 "nbformat_minor": 5
}
